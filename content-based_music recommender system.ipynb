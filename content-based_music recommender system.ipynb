{
 "cells": [
  {
   "cell_type": "code",
   "execution_count": 3,
   "id": "cd76f987-9add-45b8-90dd-cdb7e5f3bd38",
   "metadata": {},
   "outputs": [
    {
     "name": "stdout",
     "output_type": "stream",
     "text": [
      "Requirement already satisfied: numpy in c:\\users\\nagar\\appdata\\local\\programs\\python\\python312\\lib\\site-packages (1.26.0)\n",
      "Note: you may need to restart the kernel to use updated packages.\n"
     ]
    },
    {
     "name": "stderr",
     "output_type": "stream",
     "text": [
      "\n",
      "[notice] A new release of pip is available: 23.2.1 -> 23.3.2\n",
      "[notice] To update, run: python.exe -m pip install --upgrade pip\n"
     ]
    }
   ],
   "source": [
    "#content-based music recommender system\n",
    "#Importing libraries\n",
    "pip install numpy"
   ]
  },
  {
   "cell_type": "code",
   "execution_count": 4,
   "id": "6baf6661-37ec-4f79-98fb-97a3bbb4eca3",
   "metadata": {},
   "outputs": [
    {
     "name": "stdout",
     "output_type": "stream",
     "text": [
      "Requirement already satisfied: pandas in c:\\users\\nagar\\appdata\\local\\programs\\python\\python312\\lib\\site-packages (2.1.1)\n",
      "Requirement already satisfied: numpy>=1.26.0 in c:\\users\\nagar\\appdata\\local\\programs\\python\\python312\\lib\\site-packages (from pandas) (1.26.0)\n",
      "Requirement already satisfied: python-dateutil>=2.8.2 in c:\\users\\nagar\\appdata\\local\\programs\\python\\python312\\lib\\site-packages (from pandas) (2.8.2)\n",
      "Requirement already satisfied: pytz>=2020.1 in c:\\users\\nagar\\appdata\\local\\programs\\python\\python312\\lib\\site-packages (from pandas) (2023.3.post1)\n",
      "Requirement already satisfied: tzdata>=2022.1 in c:\\users\\nagar\\appdata\\local\\programs\\python\\python312\\lib\\site-packages (from pandas) (2023.3)\n",
      "Requirement already satisfied: six>=1.5 in c:\\users\\nagar\\appdata\\local\\programs\\python\\python312\\lib\\site-packages (from python-dateutil>=2.8.2->pandas) (1.16.0)\n",
      "Note: you may need to restart the kernel to use updated packages.\n"
     ]
    },
    {
     "name": "stderr",
     "output_type": "stream",
     "text": [
      "\n",
      "[notice] A new release of pip is available: 23.2.1 -> 23.3.2\n",
      "[notice] To update, run: python.exe -m pip install --upgrade pip\n"
     ]
    }
   ],
   "source": [
    "pip install pandas"
   ]
  },
  {
   "cell_type": "code",
   "execution_count": 5,
   "id": "08301f8b-aaee-447e-9727-0681e6708882",
   "metadata": {},
   "outputs": [],
   "source": [
    "import numpy as np\n",
    "import pandas as pd"
   ]
  },
  {
   "cell_type": "code",
   "execution_count": 6,
   "id": "4ed7bee9-9aed-404d-bb7a-d46ac1cbd632",
   "metadata": {},
   "outputs": [],
   "source": [
    "from typing import List, Dict\n"
   ]
  },
  {
   "cell_type": "code",
   "execution_count": 8,
   "id": "98fa1dbe-ba5b-43b3-8dbb-32b274f7b379",
   "metadata": {},
   "outputs": [],
   "source": [
    "#we have already used in TF-IDF score before when performing Twitter sentiment analysis\n",
    "#Likewise,we are going to use Tfidfvectorizer from the Scikit-learn package again.\n",
    "from sklearn.feature_extraction.text import TfidfVectorizer\n",
    "from sklearn.metrics.pairwise import cosine_similarity"
   ]
  },
  {
   "cell_type": "markdown",
   "id": "7d7d0d5b-617f-45a8-8635-812686f114e4",
   "metadata": {},
   "source": [
    "Dataset\n",
    "\n",
    "so imagine that we have the following dataset.\n",
    "\n",
    "This dataset contains name,artist, and lyrics for 57650 songs in English.\n",
    "\n",
    "This data has been acquired from LyricsFreak througn scraping."
   ]
  },
  {
   "cell_type": "code",
   "execution_count": 10,
   "id": "ce191b75-6925-4945-a04e-a16f19781001",
   "metadata": {},
   "outputs": [],
   "source": [
    "songs = pd.read_csv(\"C:\\\\Users\\\\nagar\\\\Downloads\\\\songsdata.csv\")"
   ]
  },
  {
   "cell_type": "code",
   "execution_count": 12,
   "id": "e7556aaa-4ed9-4220-81f9-540053e2c88d",
   "metadata": {},
   "outputs": [
    {
     "data": {
      "text/html": [
       "<div>\n",
       "<style scoped>\n",
       "    .dataframe tbody tr th:only-of-type {\n",
       "        vertical-align: middle;\n",
       "    }\n",
       "\n",
       "    .dataframe tbody tr th {\n",
       "        vertical-align: top;\n",
       "    }\n",
       "\n",
       "    .dataframe thead th {\n",
       "        text-align: right;\n",
       "    }\n",
       "</style>\n",
       "<table border=\"1\" class=\"dataframe\">\n",
       "  <thead>\n",
       "    <tr style=\"text-align: right;\">\n",
       "      <th></th>\n",
       "      <th>artist</th>\n",
       "      <th>song</th>\n",
       "      <th>link</th>\n",
       "      <th>text</th>\n",
       "    </tr>\n",
       "  </thead>\n",
       "  <tbody>\n",
       "    <tr>\n",
       "      <th>0</th>\n",
       "      <td>ABBA</td>\n",
       "      <td>Ahe's My Kind Of Girl</td>\n",
       "      <td>/a/abba/ahes+my+kind+of+girl_20598417.html</td>\n",
       "      <td>Look at her face, it's a wonderful face  \\nAnd...</td>\n",
       "    </tr>\n",
       "    <tr>\n",
       "      <th>1</th>\n",
       "      <td>ABBA</td>\n",
       "      <td>Andante, Andante</td>\n",
       "      <td>/a/abba/andante+andante_20002708.html</td>\n",
       "      <td>Take it easy with me, please  \\nTouch me gentl...</td>\n",
       "    </tr>\n",
       "    <tr>\n",
       "      <th>2</th>\n",
       "      <td>ABBA</td>\n",
       "      <td>As Good As New</td>\n",
       "      <td>/a/abba/as+good+as+new_20003033.html</td>\n",
       "      <td>I'll never know why I had to go  \\nWhy I had t...</td>\n",
       "    </tr>\n",
       "    <tr>\n",
       "      <th>3</th>\n",
       "      <td>ABBA</td>\n",
       "      <td>People Need Love</td>\n",
       "      <td>/a/abba/bang_20598415.html</td>\n",
       "      <td>Making somebody happy is a question of give an...</td>\n",
       "    </tr>\n",
       "    <tr>\n",
       "      <th>4</th>\n",
       "      <td>ABBA</td>\n",
       "      <td>Bang-A-Boomerang</td>\n",
       "      <td>/a/abba/bang+a+boomerang_20002668.html</td>\n",
       "      <td>Making somebody happy is a question of give an...</td>\n",
       "    </tr>\n",
       "  </tbody>\n",
       "</table>\n",
       "</div>"
      ],
      "text/plain": [
       "  artist                   song                                        link  \\\n",
       "0   ABBA  Ahe's My Kind Of Girl  /a/abba/ahes+my+kind+of+girl_20598417.html   \n",
       "1   ABBA       Andante, Andante       /a/abba/andante+andante_20002708.html   \n",
       "2   ABBA         As Good As New        /a/abba/as+good+as+new_20003033.html   \n",
       "3   ABBA       People Need Love                  /a/abba/bang_20598415.html   \n",
       "4   ABBA       Bang-A-Boomerang      /a/abba/bang+a+boomerang_20002668.html   \n",
       "\n",
       "                                                text  \n",
       "0  Look at her face, it's a wonderful face  \\nAnd...  \n",
       "1  Take it easy with me, please  \\nTouch me gentl...  \n",
       "2  I'll never know why I had to go  \\nWhy I had t...  \n",
       "3  Making somebody happy is a question of give an...  \n",
       "4  Making somebody happy is a question of give an...  "
      ]
     },
     "execution_count": 12,
     "metadata": {},
     "output_type": "execute_result"
    }
   ],
   "source": [
    "\n",
    "songs.head()"
   ]
  },
  {
   "cell_type": "markdown",
   "id": "d3f3afab-fed7-4d5b-80f6-b3cae5deb7db",
   "metadata": {},
   "source": [
    "Because of the dataset being so big,we are going to resample only 5000 random songs"
   ]
  },
  {
   "cell_type": "code",
   "execution_count": 13,
   "id": "c549b6cc-4ce5-4fa4-b7d9-1057ddbc3cfe",
   "metadata": {},
   "outputs": [],
   "source": [
    "songs = songs.sample(n=5000).drop('link', axis=1).reset_index(drop=True)"
   ]
  },
  {
   "cell_type": "markdown",
   "id": "7c221d66-0a44-4df3-bd25-0a1b276a329c",
   "metadata": {},
   "source": [
    "We can notice also the presence of \\n the text,so we are going to remove it"
   ]
  },
  {
   "cell_type": "code",
   "execution_count": 14,
   "id": "ffb073e7-81aa-440b-affb-579d90d9bd8b",
   "metadata": {},
   "outputs": [],
   "source": [
    "songs['text'] = songs['text'].str.replace(r'\\n', '')"
   ]
  },
  {
   "cell_type": "markdown",
   "id": "97b72cd4-2d8b-443b-8d27-770c3cbd734d",
   "metadata": {},
   "source": [
    "After that,we use TF-IDF vectorizer that calculates the TF-IDF score for each song lyric,word by word\n",
    "\n",
    "Here,we pay particular attention to the arguments we can specify."
   ]
  },
  {
   "cell_type": "code",
   "execution_count": 15,
   "id": "adac4201-9770-4cfb-96a6-740b3f0ddb36",
   "metadata": {},
   "outputs": [],
   "source": [
    "tfidf = TfidfVectorizer(analyzer='word', stop_words='english')"
   ]
  },
  {
   "cell_type": "code",
   "execution_count": 16,
   "id": "1a04ab3b-42fe-45aa-b57b-da9e16e888eb",
   "metadata": {},
   "outputs": [],
   "source": [
    "lyrics_matrix = tfidf.fit_transform(songs['text'])"
   ]
  },
  {
   "cell_type": "markdown",
   "id": "4dd34b4e-642b-4b55-8714-302bf8234b46",
   "metadata": {},
   "source": [
    "How do we use this matrix for a recommendation?\n",
    "\n",
    "We now need to calculate the similarity of one lyric to another .We are going to usr cosine similarity.\n",
    "\n",
    "We want to calculate the cosine similarity of each item with every other item in the dataset.So we just pass the lyrics_matrix as agrument"
   ]
  },
  {
   "cell_type": "code",
   "execution_count": 17,
   "id": "13fd6db1-4b84-47c7-bc87-7bc1c830c1e5",
   "metadata": {},
   "outputs": [],
   "source": [
    "cosine_similarities = cosine_similarity(lyrics_matrix) "
   ]
  },
  {
   "cell_type": "markdown",
   "id": "c5e0fbd7-679b-471b-861e-1433d862b27a",
   "metadata": {},
   "source": [
    "Once we get the similarites,we'll store in a dictionary the names  of the 50 most similar songs for each sing in our dataset"
   ]
  },
  {
   "cell_type": "code",
   "execution_count": 18,
   "id": "95f384f6-54b4-43d3-8197-3140f82e1339",
   "metadata": {},
   "outputs": [],
   "source": [
    "similarities = {}"
   ]
  },
  {
   "cell_type": "code",
   "execution_count": 19,
   "id": "42405ab0-9460-4506-bfca-0715f66b860d",
   "metadata": {},
   "outputs": [],
   "source": [
    "for i in range(len(cosine_similarities)):\n",
    "    # Now we'll sort each element in cosine_similarities and get the indexes of the songs. \n",
    "    similar_indices = cosine_similarities[i].argsort()[:-50:-1] \n",
    "    # After that, we'll store in similarities each name of the 50 most similar songs.\n",
    "    # Except the first one that is the same song.\n",
    "    similarities[songs['song'].iloc[i]] = [(cosine_similarities[i][x], songs['song'][x], songs['artist'][x]) for x in similar_indices][1:]"
   ]
  },
  {
   "cell_type": "markdown",
   "id": "d92ae680-d5af-4296-9deb-dc6627ee7749",
   "metadata": {},
   "source": [
    "We can use that similarity scores to access the most similar items and give a recommendation\n",
    "\n",
    "For that, we'll define our content based recommender class:"
   ]
  },
  {
   "cell_type": "code",
   "execution_count": 20,
   "id": "6fc3f108-02a1-42b3-8e54-a9dbe04b3145",
   "metadata": {},
   "outputs": [],
   "source": [
    "class ContentBasedRecommender:\n",
    "    def __init__(self, matrix):\n",
    "        self.matrix_similar = matrix\n",
    "\n",
    "    def _print_message(self, song, recom_song):\n",
    "        rec_items = len(recom_song)\n",
    "        \n",
    "        print(f'The {rec_items} recommended songs for {song} are:')\n",
    "        for i in range(rec_items):\n",
    "            print(f\"Number {i+1}:\")\n",
    "            print(f\"{recom_song[i][1]} by {recom_song[i][2]} with {round(recom_song[i][0], 3)} similarity score\") \n",
    "            print(\"--------------------\")\n",
    "        \n",
    "    def recommend(self, recommendation):\n",
    "        # Get song to find recommendations for\n",
    "        song = recommendation['song']\n",
    "        # Get number of songs to recommend\n",
    "        number_songs = recommendation['number_songs']\n",
    "        # Get the number of songs most similars from matrix similarities\n",
    "        recom_song = self.matrix_similar[song][:number_songs]\n",
    "        # print each item\n",
    "        self._print_message(song=song, recom_song=recom_song)"
   ]
  },
  {
   "cell_type": "code",
   "execution_count": 21,
   "id": "c2ec6d41-fa7b-4bd7-beac-6476cff69782",
   "metadata": {},
   "outputs": [],
   "source": [
    "#now,instantiate class\n",
    "recommedations = ContentBasedRecommender(similarities)"
   ]
  },
  {
   "cell_type": "markdown",
   "id": "09812ba1-9553-448c-81ab-d1b1a8d1496b",
   "metadata": {},
   "source": [
    "Then,we are ready to pick a song from the dataset and make arecommendation"
   ]
  },
  {
   "cell_type": "code",
   "execution_count": 22,
   "id": "51cfa059-1b1b-4223-8c54-92a4ea8cba6a",
   "metadata": {},
   "outputs": [],
   "source": [
    "recommendation = {\n",
    "    \"song\": songs['song'].iloc[10],\n",
    "    \"number_songs\": 4 \n",
    "}"
   ]
  },
  {
   "cell_type": "code",
   "execution_count": 23,
   "id": "446c432d-526a-44bd-ba79-59745d442181",
   "metadata": {},
   "outputs": [
    {
     "name": "stdout",
     "output_type": "stream",
     "text": [
      "The 4 recommended songs for Granny are:\n",
      "Number 1:\n",
      "Running Wild by Judas Priest with 0.357 similarity score\n",
      "--------------------\n",
      "Number 2:\n",
      "Wild America by Iggy Pop with 0.272 similarity score\n",
      "--------------------\n",
      "Number 3:\n",
      "Young Volcanoes by Fall Out Boy with 0.257 similarity score\n",
      "--------------------\n",
      "Number 4:\n",
      "Life Is Wild by Clash with 0.251 similarity score\n",
      "--------------------\n"
     ]
    }
   ],
   "source": [
    "recommedations.recommend(recommendation)"
   ]
  },
  {
   "cell_type": "code",
   "execution_count": 24,
   "id": "bbbb25fe-51b3-41ee-afc7-96d1f0c38b11",
   "metadata": {},
   "outputs": [],
   "source": [
    "#And we pick another random somg and recommend song\n",
    "recommendation2 = {\n",
    "    \"song\": songs['song'].iloc[120],\n",
    "    \"number_songs\": 4 \n",
    "}"
   ]
  },
  {
   "cell_type": "code",
   "execution_count": 25,
   "id": "d8041f4e-0edc-425b-9617-d345e718b6fc",
   "metadata": {},
   "outputs": [
    {
     "name": "stdout",
     "output_type": "stream",
     "text": [
      "The 4 recommended songs for Clinging To A Saving Hand are:\n",
      "Number 1:\n",
      "Why We Sing by Kirk Franklin with 0.304 similarity score\n",
      "--------------------\n",
      "Number 2:\n",
      "Bombollini by Chris Rea with 0.246 similarity score\n",
      "--------------------\n",
      "Number 3:\n",
      "Maybe Tomorrow by UB40 with 0.234 similarity score\n",
      "--------------------\n",
      "Number 4:\n",
      "Joy To The World by Faith Hill with 0.219 similarity score\n",
      "--------------------\n"
     ]
    }
   ],
   "source": [
    "recommedations.recommend(recommendation2)"
   ]
  },
  {
   "cell_type": "code",
   "execution_count": null,
   "id": "245e8f77-75a7-4fd8-bd4b-63e9c6e611e2",
   "metadata": {},
   "outputs": [],
   "source": []
  }
 ],
 "metadata": {
  "kernelspec": {
   "display_name": "Python 3 (ipykernel)",
   "language": "python",
   "name": "python3"
  },
  "language_info": {
   "codemirror_mode": {
    "name": "ipython",
    "version": 3
   },
   "file_extension": ".py",
   "mimetype": "text/x-python",
   "name": "python",
   "nbconvert_exporter": "python",
   "pygments_lexer": "ipython3",
   "version": "3.12.0"
  }
 },
 "nbformat": 4,
 "nbformat_minor": 5
}
