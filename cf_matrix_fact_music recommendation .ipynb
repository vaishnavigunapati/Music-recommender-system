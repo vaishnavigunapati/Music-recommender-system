{
 "cells": [
  {
   "cell_type": "code",
   "execution_count": 3,
   "id": "014677c3-c84d-4a3c-9a58-8b1264bd0e80",
   "metadata": {},
   "outputs": [
    {
     "name": "stdout",
     "output_type": "stream",
     "text": [
      "Requirement already satisfied: numpy in c:\\users\\nagar\\appdata\\local\\programs\\python\\python312\\lib\\site-packages (1.26.4)Note: you may need to restart the kernel to use updated packages.\n",
      "\n"
     ]
    }
   ],
   "source": [
    "pip install numpy\n"
   ]
  },
  {
   "cell_type": "code",
   "execution_count": 5,
   "id": "d417414f-5cfd-4d42-99db-8dabe069450c",
   "metadata": {},
   "outputs": [
    {
     "name": "stdout",
     "output_type": "stream",
     "text": [
      "Requirement already satisfied: pandas in c:\\users\\nagar\\appdata\\local\\programs\\python\\python312\\lib\\site-packages (2.1.1)Note: you may need to restart the kernel to use updated packages.\n",
      "\n",
      "Requirement already satisfied: numpy>=1.26.0 in c:\\users\\nagar\\appdata\\local\\programs\\python\\python312\\lib\\site-packages (from pandas) (1.26.4)\n",
      "Requirement already satisfied: python-dateutil>=2.8.2 in c:\\users\\nagar\\appdata\\local\\programs\\python\\python312\\lib\\site-packages (from pandas) (2.8.2)\n",
      "Requirement already satisfied: pytz>=2020.1 in c:\\users\\nagar\\appdata\\local\\programs\\python\\python312\\lib\\site-packages (from pandas) (2023.3.post1)\n",
      "Requirement already satisfied: tzdata>=2022.1 in c:\\users\\nagar\\appdata\\local\\programs\\python\\python312\\lib\\site-packages (from pandas) (2023.3)\n",
      "Requirement already satisfied: six>=1.5 in c:\\users\\nagar\\appdata\\local\\programs\\python\\python312\\lib\\site-packages (from python-dateutil>=2.8.2->pandas) (1.16.0)\n"
     ]
    }
   ],
   "source": [
    "pip install pandas"
   ]
  },
  {
   "cell_type": "code",
   "execution_count": 33,
   "id": "42ddb46a-1c3b-4da3-8d77-100ac0fb7243",
   "metadata": {},
   "outputs": [
    {
     "name": "stdout",
     "output_type": "stream",
     "text": [
      "Requirement already satisfied: matplotlib in c:\\users\\nagar\\appdata\\local\\programs\\python\\python312\\lib\\site-packages (3.8.0)\n",
      "Requirement already satisfied: contourpy>=1.0.1 in c:\\users\\nagar\\appdata\\local\\programs\\python\\python312\\lib\\site-packages (from matplotlib) (1.1.1)\n",
      "Requirement already satisfied: cycler>=0.10 in c:\\users\\nagar\\appdata\\local\\programs\\python\\python312\\lib\\site-packages (from matplotlib) (0.12.1)\n",
      "Requirement already satisfied: fonttools>=4.22.0 in c:\\users\\nagar\\appdata\\local\\programs\\python\\python312\\lib\\site-packages (from matplotlib) (4.43.1)\n",
      "Requirement already satisfied: kiwisolver>=1.0.1 in c:\\users\\nagar\\appdata\\local\\programs\\python\\python312\\lib\\site-packages (from matplotlib) (1.4.5)\n",
      "Requirement already satisfied: numpy<2,>=1.21 in c:\\users\\nagar\\appdata\\local\\programs\\python\\python312\\lib\\site-packages (from matplotlib) (1.26.4)\n",
      "Requirement already satisfied: packaging>=20.0 in c:\\users\\nagar\\appdata\\local\\programs\\python\\python312\\lib\\site-packages (from matplotlib) (23.2)\n",
      "Requirement already satisfied: pillow>=6.2.0 in c:\\users\\nagar\\appdata\\local\\programs\\python\\python312\\lib\\site-packages (from matplotlib) (10.0.1)\n",
      "Requirement already satisfied: pyparsing>=2.3.1 in c:\\users\\nagar\\appdata\\local\\programs\\python\\python312\\lib\\site-packages (from matplotlib) (3.1.1)\n",
      "Requirement already satisfied: python-dateutil>=2.7 in c:\\users\\nagar\\appdata\\local\\programs\\python\\python312\\lib\\site-packages (from matplotlib) (2.8.2)\n",
      "Requirement already satisfied: six>=1.5 in c:\\users\\nagar\\appdata\\local\\programs\\python\\python312\\lib\\site-packages (from python-dateutil>=2.7->matplotlib) (1.16.0)\n",
      "Note: you may need to restart the kernel to use updated packages.\n"
     ]
    }
   ],
   "source": [
    "pip install matplotlib"
   ]
  },
  {
   "cell_type": "code",
   "execution_count": 34,
   "id": "df598784-3dc0-4987-9ab6-0841d09902fd",
   "metadata": {},
   "outputs": [
    {
     "name": "stdout",
     "output_type": "stream",
     "text": [
      "Requirement already satisfied: seaborn in c:\\users\\nagar\\appdata\\local\\programs\\python\\python312\\lib\\site-packages (0.13.0)\n",
      "Requirement already satisfied: numpy!=1.24.0,>=1.20 in c:\\users\\nagar\\appdata\\local\\programs\\python\\python312\\lib\\site-packages (from seaborn) (1.26.4)\n",
      "Requirement already satisfied: pandas>=1.2 in c:\\users\\nagar\\appdata\\local\\programs\\python\\python312\\lib\\site-packages (from seaborn) (2.1.1)\n",
      "Requirement already satisfied: matplotlib!=3.6.1,>=3.3 in c:\\users\\nagar\\appdata\\local\\programs\\python\\python312\\lib\\site-packages (from seaborn) (3.8.0)\n",
      "Requirement already satisfied: contourpy>=1.0.1 in c:\\users\\nagar\\appdata\\local\\programs\\python\\python312\\lib\\site-packages (from matplotlib!=3.6.1,>=3.3->seaborn) (1.1.1)\n",
      "Requirement already satisfied: cycler>=0.10 in c:\\users\\nagar\\appdata\\local\\programs\\python\\python312\\lib\\site-packages (from matplotlib!=3.6.1,>=3.3->seaborn) (0.12.1)\n",
      "Requirement already satisfied: fonttools>=4.22.0 in c:\\users\\nagar\\appdata\\local\\programs\\python\\python312\\lib\\site-packages (from matplotlib!=3.6.1,>=3.3->seaborn) (4.43.1)\n",
      "Requirement already satisfied: kiwisolver>=1.0.1 in c:\\users\\nagar\\appdata\\local\\programs\\python\\python312\\lib\\site-packages (from matplotlib!=3.6.1,>=3.3->seaborn) (1.4.5)\n",
      "Requirement already satisfied: packaging>=20.0 in c:\\users\\nagar\\appdata\\local\\programs\\python\\python312\\lib\\site-packages (from matplotlib!=3.6.1,>=3.3->seaborn) (23.2)\n",
      "Requirement already satisfied: pillow>=6.2.0 in c:\\users\\nagar\\appdata\\local\\programs\\python\\python312\\lib\\site-packages (from matplotlib!=3.6.1,>=3.3->seaborn) (10.0.1)\n",
      "Requirement already satisfied: pyparsing>=2.3.1 in c:\\users\\nagar\\appdata\\local\\programs\\python\\python312\\lib\\site-packages (from matplotlib!=3.6.1,>=3.3->seaborn) (3.1.1)\n",
      "Requirement already satisfied: python-dateutil>=2.7 in c:\\users\\nagar\\appdata\\local\\programs\\python\\python312\\lib\\site-packages (from matplotlib!=3.6.1,>=3.3->seaborn) (2.8.2)\n",
      "Requirement already satisfied: pytz>=2020.1 in c:\\users\\nagar\\appdata\\local\\programs\\python\\python312\\lib\\site-packages (from pandas>=1.2->seaborn) (2023.3.post1)\n",
      "Requirement already satisfied: tzdata>=2022.1 in c:\\users\\nagar\\appdata\\local\\programs\\python\\python312\\lib\\site-packages (from pandas>=1.2->seaborn) (2023.3)\n",
      "Requirement already satisfied: six>=1.5 in c:\\users\\nagar\\appdata\\local\\programs\\python\\python312\\lib\\site-packages (from python-dateutil>=2.7->matplotlib!=3.6.1,>=3.3->seaborn) (1.16.0)\n",
      "Note: you may need to restart the kernel to use updated packages.\n"
     ]
    }
   ],
   "source": [
    "pip install seaborn"
   ]
  },
  {
   "cell_type": "code",
   "execution_count": 56,
   "id": "ce70b555-1e3b-4fc9-8399-84ce79ef15e1",
   "metadata": {},
   "outputs": [],
   "source": [
    "import pandas as pd\n",
    "from sklearn.model_selection import train_test_split\n",
    "from sklearn.metrics import mean_squared_error\n",
    "from sklearn.linear_model import LinearRegression\n",
    "\n",
    "\n",
    "\n",
    "\n"
   ]
  },
  {
   "cell_type": "code",
   "execution_count": 36,
   "id": "b6f4a449-d2b3-4905-8920-07e63d807bf4",
   "metadata": {},
   "outputs": [],
   "source": [
    "df_songs = pd.read_csv(\"C:\\\\Users\\\\nagar\\\\Downloads\\\\songs.csv\", encoding='latin1')"
   ]
  },
  {
   "cell_type": "code",
   "execution_count": 37,
   "id": "532506fe-52cf-4006-84c7-92a09e5ba483",
   "metadata": {},
   "outputs": [
    {
     "data": {
      "text/html": [
       "<div>\n",
       "<style scoped>\n",
       "    .dataframe tbody tr th:only-of-type {\n",
       "        vertical-align: middle;\n",
       "    }\n",
       "\n",
       "    .dataframe tbody tr th {\n",
       "        vertical-align: top;\n",
       "    }\n",
       "\n",
       "    .dataframe thead th {\n",
       "        text-align: right;\n",
       "    }\n",
       "</style>\n",
       "<table border=\"1\" class=\"dataframe\">\n",
       "  <thead>\n",
       "    <tr style=\"text-align: right;\">\n",
       "      <th></th>\n",
       "      <th>Unnamed: 0</th>\n",
       "      <th>user_id</th>\n",
       "      <th>song_id</th>\n",
       "      <th>listen_count</th>\n",
       "      <th>title</th>\n",
       "      <th>release</th>\n",
       "      <th>artist_name</th>\n",
       "      <th>year</th>\n",
       "    </tr>\n",
       "  </thead>\n",
       "  <tbody>\n",
       "    <tr>\n",
       "      <th>0</th>\n",
       "      <td>0</td>\n",
       "      <td>b80344d063b5ccb3212f76538f3d9e43d87dca9e</td>\n",
       "      <td>SOAKIMP12A8C130995\\t</td>\n",
       "      <td>1</td>\n",
       "      <td>The Cove</td>\n",
       "      <td>Thicker Than Water</td>\n",
       "      <td>Jack Johnson\\t</td>\n",
       "      <td>0</td>\n",
       "    </tr>\n",
       "    <tr>\n",
       "      <th>1</th>\n",
       "      <td>1</td>\n",
       "      <td>b80344d063b5ccb3212f76538f3d9e43d87dca9e\\t</td>\n",
       "      <td>SOBBMDR12A8C13253B\\t</td>\n",
       "      <td>2</td>\n",
       "      <td>Entre Dos Aguas</td>\n",
       "      <td>Flamenco Para Niños</td>\n",
       "      <td>Paco De Lucia\\t</td>\n",
       "      <td>1976</td>\n",
       "    </tr>\n",
       "    <tr>\n",
       "      <th>2</th>\n",
       "      <td>2</td>\n",
       "      <td>b80344d063b5ccb3212f76538f3d9e43d87dca9e</td>\n",
       "      <td>SOBXHDL12A81C204C0\\t</td>\n",
       "      <td>1</td>\n",
       "      <td>Stronger</td>\n",
       "      <td>Graduation\\t</td>\n",
       "      <td>Kanye West\\t</td>\n",
       "      <td>2007</td>\n",
       "    </tr>\n",
       "    <tr>\n",
       "      <th>3</th>\n",
       "      <td>3</td>\n",
       "      <td>b80344d063b5ccb3212f76538f3d9e43d87dca9e</td>\n",
       "      <td>SOBYHAJ12A6701BF1D\\t</td>\n",
       "      <td>1</td>\n",
       "      <td>Constellations\\tIn Between</td>\n",
       "      <td>In Between Dreams</td>\n",
       "      <td>Jack Johnson</td>\n",
       "      <td>2005</td>\n",
       "    </tr>\n",
       "    <tr>\n",
       "      <th>4</th>\n",
       "      <td>4</td>\n",
       "      <td>b80344d063b5ccb3212f76538f3d9e43d87dca9e</td>\n",
       "      <td>SODACBL12A8C13C273\\t</td>\n",
       "      <td>1</td>\n",
       "      <td>Learn To Fly\\tThere Is</td>\n",
       "      <td>There Is Nothing Left To Lose</td>\n",
       "      <td>Foo Fighters\\t</td>\n",
       "      <td>1999</td>\n",
       "    </tr>\n",
       "  </tbody>\n",
       "</table>\n",
       "</div>"
      ],
      "text/plain": [
       "   Unnamed: 0                                     user_id  \\\n",
       "0           0    b80344d063b5ccb3212f76538f3d9e43d87dca9e   \n",
       "1           1  b80344d063b5ccb3212f76538f3d9e43d87dca9e\\t   \n",
       "2           2    b80344d063b5ccb3212f76538f3d9e43d87dca9e   \n",
       "3           3    b80344d063b5ccb3212f76538f3d9e43d87dca9e   \n",
       "4           4    b80344d063b5ccb3212f76538f3d9e43d87dca9e   \n",
       "\n",
       "                song_id  listen_count                        title  \\\n",
       "0  SOAKIMP12A8C130995\\t             1                     The Cove   \n",
       "1  SOBBMDR12A8C13253B\\t             2              Entre Dos Aguas   \n",
       "2  SOBXHDL12A81C204C0\\t             1                     Stronger   \n",
       "3  SOBYHAJ12A6701BF1D\\t             1  Constellations\\tIn Between    \n",
       "4  SODACBL12A8C13C273\\t             1      Learn To Fly\\tThere Is    \n",
       "\n",
       "                         release      artist_name  year  \n",
       "0             Thicker Than Water   Jack Johnson\\t     0  \n",
       "1            Flamenco Para Niños  Paco De Lucia\\t  1976  \n",
       "2                   Graduation\\t     Kanye West\\t  2007  \n",
       "3              In Between Dreams     Jack Johnson  2005  \n",
       "4  There Is Nothing Left To Lose   Foo Fighters\\t  1999  "
      ]
     },
     "execution_count": 37,
     "metadata": {},
     "output_type": "execute_result"
    }
   ],
   "source": [
    "df_songs.head()"
   ]
  },
  {
   "cell_type": "code",
   "execution_count": 38,
   "id": "dbddc756-1ad5-4e4e-bb62-4049f6cb999c",
   "metadata": {},
   "outputs": [],
   "source": [
    "song_user = df_songs.groupby('song_id')['user_id'].count()"
   ]
  },
  {
   "cell_type": "code",
   "execution_count": 39,
   "id": "005c1e01-51e8-4dae-917a-b1f948153a6a",
   "metadata": {},
   "outputs": [
    {
     "name": "stderr",
     "output_type": "stream",
     "text": [
      "C:\\Users\\nagar\\AppData\\Local\\Temp\\ipykernel_12952\\1050531674.py:5: UserWarning: \n",
      "\n",
      "`distplot` is a deprecated function and will be removed in seaborn v0.14.0.\n",
      "\n",
      "Please adapt your code to use either `displot` (a figure-level function with\n",
      "similar flexibility) or `histplot` (an axes-level function for histograms).\n",
      "\n",
      "For a guide to updating your code to use the new functions, please see\n",
      "https://gist.github.com/mwaskom/de44147ed2974457ad6372750bbe5751\n",
      "\n",
      "  sns.distplot(song_user.values, color='blue')\n",
      "C:\\Users\\nagar\\AppData\\Local\\Programs\\Python\\Python312\\Lib\\site-packages\\seaborn\\distributions.py:2496: UserWarning: Dataset has 0 variance; skipping density estimate. Pass `warn_singular=False` to disable this warning.\n",
      "  kdeplot(**{axis: a}, ax=ax, color=kde_color, **kde_kws)\n"
     ]
    },
    {
     "data": {
      "image/png": "[encoded data removed]",
      "text/plain": [
       "<Figure size 100x400 with 1 Axes>"
      ]
     },
     "metadata": {},
     "output_type": "display_data"
    }
   ],
   "source": [
    "import matplotlib.pyplot as plt\n",
    "import seaborn as sns\n",
    "\n",
    "plt.figure(figsize=(1, 4))\n",
    "sns.distplot(song_user.values, color='blue')\n",
    "plt.gca().spines['top'].set_visible(False)\n",
    "plt.gca().spines['right'].set_visible(False)\n",
    "plt.show();\n"
   ]
  },
  {
   "cell_type": "code",
   "execution_count": 40,
   "id": "7ff6c67d-45ee-4c73-813d-96e0f148231e",
   "metadata": {},
   "outputs": [
    {
     "name": "stdout",
     "output_type": "stream",
     "text": [
      "A song is listened for an average of 30.0 users, with minimum 10 and maximum 50 users\n"
     ]
    }
   ],
   "source": [
    "import numpy as np\n",
    "\n",
    "# Assume song_user is a list or array containing data\n",
    "song_user = [10, 20, 30, 40, 50]  # Example data\n",
    "\n",
    "# Now you can use song_user in your print statement\n",
    "print(f\"A song is listened for an average of {np.mean(song_user)} users, with minimum {np.min(song_user)} and maximum {np.max(song_user)} users\")\n"
   ]
  },
  {
   "cell_type": "markdown",
   "id": "700fdf6c-7eee-4c64-bcac-d09567ccce97",
   "metadata": {},
   "source": [
    "So we already know that it is a very sparse matrix. Dealing with such a sparse matrix, we'll take a lot of memory and resources. To make our life easier, let's just select again all those users that have listened to at least 16 songs. Moreover, we are going to select only those songs which have been listened to by at least 200 users."
   ]
  },
  {
   "cell_type": "code",
   "execution_count": 41,
   "id": "a470f288-6702-44b8-b66b-4f9c885a7911",
   "metadata": {},
   "outputs": [],
   "source": [
    "import pandas as pd\n",
    "\n",
    "# Assuming df_songs is loaded from a CSV file named 'songs_data.csv'\n",
    "# Adjust the file path as needed\n",
    "df_songs = pd.read_csv(\"C:\\\\Users\\\\nagar\\\\Downloads\\\\songs.csv\", encoding='latin1')\n",
    "\n",
    "# Now you can proceed with your code\n",
    "user_counts = df_songs.groupby('user_id')['song_id'].count()\n",
    "user_ten_id = user_counts[user_counts > 16].index.to_list()\n"
   ]
  },
  {
   "cell_type": "code",
   "execution_count": 42,
   "id": "7f2c006c-5b1f-43c0-a490-ca5f70639c87",
   "metadata": {},
   "outputs": [],
   "source": [
    "import pandas as pd\n",
    "\n",
    "# Assuming df_songs is loaded from a CSV file named 'songs_data.csv'\n",
    "# Adjust the file path as needed\n",
    "df_songs = pd.read_csv(\"C:\\\\Users\\\\nagar\\\\Downloads\\\\songs.csv\", encoding='latin1')\n",
    "\n",
    "# Now you can proceed with your code\n",
    "user_counts = df_songs.groupby('user_id')['song_id'].count()\n",
    "user_ten_id = user_counts[user_counts > 200].index.to_list()\n"
   ]
  },
  {
   "cell_type": "code",
   "execution_count": 43,
   "id": "66a5331d-1bc8-4ffd-b8d1-6f9a236a87cb",
   "metadata": {},
   "outputs": [],
   "source": [
    "df_song_reduced = df_songs[(df_songs['user_id'].isin(user_ten_id)) & (df_songs['song_id'].isin(user_ten_id))].reset_index(drop=True)"
   ]
  },
  {
   "cell_type": "code",
   "execution_count": 44,
   "id": "3322ba51-276a-4468-abdc-cbe9e8d1f46c",
   "metadata": {},
   "outputs": [
    {
     "data": {
      "text/plain": [
       "(0, 8)"
      ]
     },
     "execution_count": 44,
     "metadata": {},
     "output_type": "execute_result"
    }
   ],
   "source": [
    "df_song_reduced.shape"
   ]
  },
  {
   "cell_type": "raw",
   "id": "72aff459-c054-483c-9fe3-43d9bcbb0edc",
   "metadata": {},
   "source": [
    "Model and recommendations\n",
    "Matrix Factorization is a powerful way to implement a recommendation system. The idea behind it is to represent users and items in a lower-dimensional latent space.\n",
    "\n",
    "So, in other words, Matrix factorization methods decompose the original sparse user-item matrix into lower dimensionality less sparse rectangular matrices with latent features.\n",
    "\n",
    "This does not only solve the sparsity issue but also makes the method scalable. It doesn't matter how big the matrix is, you can always find lower dimensionality matrices that are a true representation of the original one.\n",
    "\n",
    "Among the different matrix factorization techniques, we found the popular singular value decomposition (SVD).\n",
    "\n",
    "This can be an abstract concept as we deepen into the mathematical foundations. But we'll try to keep it as simple as possible. Imagine we have a matrix A that contains the data for n users x m songs. This matrix can be decomposed uniquely into 3 matrices; let's called them U, S, and V.\n",
    "\n",
    "In terms of our song recommender:\n",
    "\n",
    "U is an n users x r user-latent feature matrix\n",
    "V is an m songs x r song-latent feature matrix\n",
    "S is an r x r non-negative diagonal matrix containing the singular values of the original matrix.\n",
    "Instead of working with the implicit rating as it is, we'll apply the binning technique. \n",
    "\n",
    "We'll define 10 categories. The original data values which fall into the interval from 0 to 1\n",
    "representative rating of 1; if they fall into the interval 1 to 2, they will be replaced by 2; and so on and so forth. The last category will be assigned to original values ranging from 9 to 2213."
   ]
  },
  {
   "cell_type": "code",
   "execution_count": 45,
   "id": "09020238-04dd-41ef-ac36-c44b2e9c553f",
   "metadata": {},
   "outputs": [],
   "source": [
    "bins = [0, 1, 2, 3, 4, 5, 6, 7, 8, 9, 2214]"
   ]
  },
  {
   "cell_type": "code",
   "execution_count": 46,
   "id": "ff81096a-6290-4af6-b7f5-51a928cdc390",
   "metadata": {},
   "outputs": [],
   "source": [
    "df_song_reduced['listen_count'] = pd.cut(df_song_reduced['listen_count'], bins=bins, labels=[1, 2, 3, 4, 5, 6, 7, 8, 9, 10])"
   ]
  },
  {
   "cell_type": "code",
   "execution_count": 47,
   "id": "c4463a7f-b063-4db8-9cf7-d7572aa4c0d5",
   "metadata": {},
   "outputs": [],
   "source": [
    "import pandas as pd\n",
    "\n",
    "# Assuming df_song_reduced is your DataFrame\n",
    "listen_counts = (\n",
    "    pd.DataFrame(df_song_reduced.groupby('listen_count', observed=False).size(), columns=['count'])\n",
    "    .reset_index(drop=False)\n",
    ")\n"
   ]
  },
  {
   "cell_type": "code",
   "execution_count": 53,
   "id": "3a4e5236-909c-4476-82b5-38e88fe24da8",
   "metadata": {},
   "outputs": [
    {
     "data": {
      "image/png": "[encoded data removed]",
      "text/plain": [
       "<Figure size 1600x800 with 1 Axes>"
      ]
     },
     "metadata": {},
     "output_type": "display_data"
    }
   ],
   "source": [
    "import seaborn as sns\n",
    "import matplotlib.pyplot as plt\n",
    "\n",
    "plt.figure(figsize=(16, 8))\n",
    "\n",
    "sns.barplot(x='listen_count', y='count', hue='listen_count', data=listen_counts, palette='Set3', legend=False)\n",
    "\n",
    "plt.gca().spines['top'].set_visible(False)\n",
    "plt.gca().spines['right'].set_visible(False)\n",
    "plt.show()\n"
   ]
  },
  {
   "cell_type": "raw",
   "id": "841fbb61-cfe5-44ea-8e57-eb7644eb4801",
   "metadata": {},
   "source": [
    "For this topic, we are going to use a fun package called surprise. Surprise is an easy-to-use Python library specially designed for recommender systems.\n",
    "\n",
    "To load a dataset from our DataFrame, we will use the load_from_df() method.\n",
    "\n",
    "We will need to pass the following parameters:\n",
    "\n",
    "df: The dataframe containing the ratings. It must have three columns, corresponding to the user ids, the song ids, and the ratings.\n",
    "reader (Reader): A reader to read the file. Only the rating_scale field needs to be specified."
   ]
  },
  {
   "cell_type": "code",
   "execution_count": 64,
   "id": "52e99e0b-ad55-4569-9eae-886cdba65bf0",
   "metadata": {},
   "outputs": [
    {
     "name": "stdout",
     "output_type": "stream",
     "text": [
      "Empty DataFrame\n",
      "Columns: [Unnamed: 0, user_id, song_id, listen_count, title, release, artist_name, year]\n",
      "Index: []\n"
     ]
    }
   ],
   "source": [
    "print(df_song_reduced.head())"
   ]
  },
  {
   "cell_type": "code",
   "execution_count": 65,
   "id": "3dcdd925-b0cb-4f98-aacd-0c235bb83a66",
   "metadata": {},
   "outputs": [
    {
     "name": "stdout",
     "output_type": "stream",
     "text": [
      "Unnamed: 0      0\n",
      "user_id         0\n",
      "song_id         0\n",
      "listen_count    0\n",
      "title           0\n",
      "release         0\n",
      "artist_name     0\n",
      "year            0\n",
      "dtype: int64\n"
     ]
    }
   ],
   "source": [
    "print(df_song_reduced.isnull().sum())  # Check for missing values\n"
   ]
  },
  {
   "cell_type": "code",
   "execution_count": 80,
   "id": "bfff7345-2b23-4d47-938d-9b7b00768f42",
   "metadata": {},
   "outputs": [],
   "source": [
    "import numpy as np\n",
    "\n",
    "# Assuming you have trainset and testset\n",
    "# You need to convert them into matrices or arrays\n",
    "\n",
    "# Example data\n",
    "trainset = np.array([[1, 101, 5], [1, 102, 4], [2, 101, 3], [2, 102, 2]])\n",
    "testset = np.array([[1, 103, 3], [2, 103, 4]])\n"
   ]
  },
  {
   "cell_type": "code",
   "execution_count": 81,
   "id": "9fcd5a6e-474a-43f0-a452-a74577a53c80",
   "metadata": {},
   "outputs": [],
   "source": [
    "# Number of users and items\n",
    "num_users = np.max(np.concatenate([trainset[:, 0], testset[:, 0]]))\n",
    "num_items = np.max(np.concatenate([trainset[:, 1], testset[:, 1]]))\n",
    "\n",
    "# Initialize user and item matrices\n",
    "user_matrix = np.random.rand(num_users, 160)\n",
    "item_matrix = np.random.rand(num_items, 160)"
   ]
  },
  {
   "cell_type": "code",
   "execution_count": 82,
   "id": "84fa6c36-7feb-463a-be1a-afb1feb09b70",
   "metadata": {},
   "outputs": [],
   "source": [
    "# Gradient descent to optimize matrices\n",
    "learning_rate = 0.01\n",
    "num_epochs = 100\n",
    "reg_term = 0.1\n",
    "\n",
    "for epoch in range(num_epochs):\n",
    "    for data_point in trainset:\n",
    "        user_id, item_id, rating = data_point\n",
    "        user_vector = user_matrix[user_id - 1]\n",
    "        item_vector = item_matrix[item_id - 1]\n",
    "\n",
    "        error = rating - np.dot(user_vector, item_vector)\n",
    "        user_gradient = learning_rate * (error * item_vector - reg_term * user_vector)\n",
    "        item_gradient = learning_rate * (error * user_vector - reg_term * item_vector)\n",
    "\n",
    "        user_matrix[user_id - 1] += user_gradient\n",
    "        item_matrix[item_id - 1] += item_gradient"
   ]
  },
  {
   "cell_type": "code",
   "execution_count": 83,
   "id": "d86c5cac-f4e1-4bc3-bd18-5c539bee2176",
   "metadata": {},
   "outputs": [
    {
     "name": "stdout",
     "output_type": "stream",
     "text": [
      "Test predictions: [17.924579471285366, 20.596385887997325]\n"
     ]
    }
   ],
   "source": [
    "# Predictions\n",
    "predictions = []\n",
    "for data_point in testset:\n",
    "    user_id, item_id, _ = data_point\n",
    "    user_vector = user_matrix[user_id - 1]\n",
    "    item_vector = item_matrix[item_id - 1]\n",
    "    prediction = np.dot(user_vector, item_vector)\n",
    "    predictions.append(prediction)\n",
    "\n",
    "print(\"Test predictions:\", predictions)"
   ]
  },
  {
   "cell_type": "code",
   "execution_count": null,
   "id": "c6969c47-1fb9-452c-8b1c-a2f1263c67dd",
   "metadata": {},
   "outputs": [],
   "source": []
  }
 ],
 "metadata": {
  "kernelspec": {
   "display_name": "Python 3 (ipykernel)",
   "language": "python",
   "name": "python3"
  },
  "language_info": {
   "codemirror_mode": {
    "name": "ipython",
    "version": 3
   },
   "file_extension": ".py",
   "mimetype": "text/x-python",
   "name": "python",
   "nbconvert_exporter": "python",
   "pygments_lexer": "ipython3",
   "version": "3.12.0"
  }
 },
 "nbformat": 4,
 "nbformat_minor": 5
}
